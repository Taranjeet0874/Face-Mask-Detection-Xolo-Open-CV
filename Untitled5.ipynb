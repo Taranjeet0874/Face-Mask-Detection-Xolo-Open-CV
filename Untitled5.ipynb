{
  "nbformat": 4,
  "nbformat_minor": 0,
  "metadata": {
    "colab": {
      "name": "Untitled5.ipynb",
      "provenance": []
    },
    "kernelspec": {
      "name": "python3",
      "display_name": "Python 3"
    },
    "accelerator": "GPU"
  },
  "cells": [
    {
      "cell_type": "code",
      "metadata": {
        "id": "TwZYAcWpvk7r"
      },
      "source": [
        "# Check if NVIDIA GPU is enabled\r\n",
        "!nvidia-smi"
      ],
      "execution_count": null,
      "outputs": []
    },
    {
      "cell_type": "code",
      "metadata": {
        "id": "Y2gQJF2PvmEm"
      },
      "source": [
        "from google.colab import drive\r\n",
        "drive.mount('/content/gdrive')\r\n",
        "!ln -s /content/gdrive/My\\ Drive/ /mydrive\r\n",
        "!ls /mydrive"
      ],
      "execution_count": null,
      "outputs": []
    },
    {
      "cell_type": "code",
      "metadata": {
        "id": "jyiI06IAvsUx"
      },
      "source": [
        "# Clone\r\n",
        "!git clone https://github.com/AlexeyAB/darknet"
      ],
      "execution_count": null,
      "outputs": []
    },
    {
      "cell_type": "code",
      "metadata": {
        "id": "YgiIcVTJvtG5"
      },
      "source": [
        "# Configure\r\n",
        "%cd darknet\r\n",
        "!sed -i 's/OPENCV=0/OPENCV=1/' Makefile\r\n",
        "!sed -i 's/GPU=0/GPU=1/' Makefile\r\n",
        "!sed -i 's/CUDNN=0/CUDNN=1/' Makefile"
      ],
      "execution_count": null,
      "outputs": []
    },
    {
      "cell_type": "code",
      "metadata": {
        "id": "wwxEAtGdv8GA"
      },
      "source": [
        "# Compile\r\n",
        "!make"
      ],
      "execution_count": null,
      "outputs": []
    },
    {
      "cell_type": "code",
      "metadata": {
        "id": "xYUDSfNjv9-J"
      },
      "source": [
        "# Make a copy of yolov3.cfg\r\n",
        "!cp cfg/yolov3.cfg cfg/yolov3_training.cfg"
      ],
      "execution_count": null,
      "outputs": []
    },
    {
      "cell_type": "code",
      "metadata": {
        "id": "ZF5iviW3wCY4"
      },
      "source": [
        "# Change lines in yolov3.cfg file\r\n",
        "!sed -i 's/batch=1/batch=64/' cfg/yolov3_training.cfg\r\n",
        "!sed -i 's/subdivisions=1/subdivisions=16/' cfg/yolov3_training.cfg\r\n",
        "!sed -i 's/max_batches = 500200/max_batches = 6000/' cfg/yolov3_training.cfg\r\n",
        "!sed -i '610 s@classes=80@classes=3@' cfg/yolov3_training.cfg\r\n",
        "!sed -i '696 s@classes=80@classes=3@' cfg/yolov3_training.cfg\r\n",
        "!sed -i '783 s@classes=80@classes=3@' cfg/yolov3_training.cfg\r\n",
        "!sed -i '603 s@filters=255@filters=24@' cfg/yolov3_training.cfg\r\n",
        "!sed -i '689 s@filters=255@filters=24@' cfg/yolov3_training.cfg\r\n",
        "!sed -i '776 s@filters=255@filters=24@' cfg/yolov3_training.cfg\r\n"
      ],
      "execution_count": null,
      "outputs": []
    },
    {
      "cell_type": "code",
      "metadata": {
        "id": "YOIuSvMHwCWd"
      },
      "source": [
        "!echo -e 'Wearing Mask\\n2nd item\\n3rd item' > data/obj.names\r\n",
        "!echo -e 'classes= 3\\ntrain  = data/train.txt\\nvalid  = data/test.txt\\nnames = data/obj.names\\nbackup = /mydrive/yolov3' > data/obj.data"
      ],
      "execution_count": null,
      "outputs": []
    },
    {
      "cell_type": "code",
      "metadata": {
        "id": "vYVDr5qUwCT6"
      },
      "source": [
        "!cp cfg/yolov3_training.cfg /mydrive/yolov3/yolov3_testing.cfg\r\n",
        "!cp data/obj.names /mydrive/yolov3/classes.txt"
      ],
      "execution_count": null,
      "outputs": []
    },
    {
      "cell_type": "code",
      "metadata": {
        "colab": {
          "base_uri": "https://localhost:8080/"
        },
        "id": "TzPlwTWQwCRU",
        "outputId": "ace3a952-2c32-41a2-8943-5064cd937c4c"
      },
      "source": [
        "!mkdir data/obj\r\n",
        "!unzip /mydrive/yolov3/images.zip -d data/obj"
      ],
      "execution_count": null,
      "outputs": [
        {
          "output_type": "stream",
          "text": [
            "mkdir: cannot create directory ‘data/obj’: File exists\n",
            "Archive:  /mydrive/yolov3/images.zip\n",
            "replace data/obj/_110755695_gettyimages-1202072951.jpg? [y]es, [n]o, [A]ll, [N]one, [r]ename: yes\n",
            "  inflating: data/obj/_110755695_gettyimages-1202072951.jpg  \n",
            "replace data/obj/_110755695_gettyimages-1202072951.txt? [y]es, [n]o, [A]ll, [N]one, [r]ename: yes\n",
            "  inflating: data/obj/_110755695_gettyimages-1202072951.txt  \n",
            "replace data/obj/_111403698_gettyimages-1207855523.jpg? [y]es, [n]o, [A]ll, [N]one, [r]ename: yes\n",
            "  inflating: data/obj/_111403698_gettyimages-1207855523.jpg  \n",
            "replace data/obj/_111403698_gettyimages-1207855523.txt? [y]es, [n]o, [A]ll, [N]one, [r]ename: yes\n",
            "  inflating: data/obj/_111403698_gettyimages-1207855523.txt  \n",
            "replace data/obj/_112342926_airportfacemask.jpg? [y]es, [n]o, [A]ll, [N]one, [r]ename: yes\n",
            "  inflating: data/obj/_112342926_airportfacemask.jpg  \n",
            "replace data/obj/_112342926_airportfacemask.txt? [y]es, [n]o, [A]ll, [N]one, [r]ename: yes\n",
            "  inflating: data/obj/_112342926_airportfacemask.txt  \n",
            "replace data/obj/_116381967_facemask.jpg? [y]es, [n]o, [A]ll, [N]one, [r]ename: yes\n",
            "  inflating: data/obj/_116381967_facemask.jpg  \n",
            "replace data/obj/_116381967_facemask.txt? [y]es, [n]o, [A]ll, [N]one, [r]ename: yes\n",
            "  inflating: data/obj/_116381967_facemask.txt  \n",
            "replace data/obj/0d6c9c64010e4fa78cfd6e1f612ff539_18.jpeg? [y]es, [n]o, [A]ll, [N]one, [r]ename: yes\n",
            "  inflating: data/obj/0d6c9c64010e4fa78cfd6e1f612ff539_18.jpeg  \n",
            "replace data/obj/0d6c9c64010e4fa78cfd6e1f612ff539_18.txt? [y]es, [n]o, [A]ll, [N]one, [r]ename: yes\n",
            "  inflating: data/obj/0d6c9c64010e4fa78cfd6e1f612ff539_18.txt  \n",
            "replace data/obj/004fJPG.jpg? [y]es, [n]o, [A]ll, [N]one, [r]ename: yes\n",
            "  inflating: data/obj/004fJPG.jpg    \n",
            "replace data/obj/004fJPG.txt? [y]es, [n]o, [A]ll, [N]one, [r]ename: yes\n",
            "  inflating: data/obj/004fJPG.txt    \n",
            "replace data/obj/8ed6dbc3-2523-455b-a6aa-380cd7df61e0-large3x4_FaceMasksSBG.jpg? [y]es, [n]o, [A]ll, [N]one, [r]ename: yes\n",
            "  inflating: data/obj/8ed6dbc3-2523-455b-a6aa-380cd7df61e0-large3x4_FaceMasksSBG.jpg  \n",
            "replace data/obj/8ed6dbc3-2523-455b-a6aa-380cd7df61e0-large3x4_FaceMasksSBG.txt? [y]es, [n]o, [A]ll, [N]one, [r]ename: yes\n",
            "  inflating: data/obj/8ed6dbc3-2523-455b-a6aa-380cd7df61e0-large3x4_FaceMasksSBG.txt  \n",
            "replace data/obj/64rc6re8_india-gate-people-with-masks-pti-november-2020_650x400_19_November_20.jpg? [y]es, [n]o, [A]ll, [N]one, [r]ename: yes\n",
            "  inflating: data/obj/64rc6re8_india-gate-people-with-masks-pti-november-2020_650x400_19_November_20.jpg  \n",
            "replace data/obj/64rc6re8_india-gate-people-with-masks-pti-november-2020_650x400_19_November_20.txt? [y]es, [n]o, [A]ll, [N]one, [r]ename: yes\n",
            "  inflating: data/obj/64rc6re8_india-gate-people-with-masks-pti-november-2020_650x400_19_November_20.txt  \n",
            "replace data/obj/960x0.jpg? [y]es, [n]o, [A]ll, [N]one, [r]ename: yes\n",
            "  inflating: data/obj/960x0.jpg      \n",
            "replace data/obj/960x0.txt? [y]es, [n]o, [A]ll, [N]one, [r]ename: yes\n",
            "  inflating: data/obj/960x0.txt      \n",
            "replace data/obj/1140-family-distanced-in-park.jpg? [y]es, [n]o, [A]ll, [N]one, [r]ename: yes\n",
            "  inflating: data/obj/1140-family-distanced-in-park.jpg  \n",
            "replace data/obj/1140-family-distanced-in-park.txt? [y]es, [n]o, [A]ll, [N]one, [r]ename: yes\n",
            "  inflating: data/obj/1140-family-distanced-in-park.txt  \n",
            "replace data/obj/8663ece5-b31e-4d73-b531-2fee72f84e0c.jpeg? [y]es, [n]o, [A]ll, [N]one, [r]ename: yes\n",
            "  inflating: data/obj/8663ece5-b31e-4d73-b531-2fee72f84e0c.jpeg  \n",
            "replace data/obj/8663ece5-b31e-4d73-b531-2fee72f84e0c.txt? [y]es, [n]o, [A]ll, [N]one, [r]ename: yes\n",
            "  inflating: data/obj/8663ece5-b31e-4d73-b531-2fee72f84e0c.txt  \n",
            "replace data/obj/86750.jpg? [y]es, [n]o, [A]ll, [N]one, [r]ename: yes\n",
            "  inflating: data/obj/86750.jpg      \n",
            "replace data/obj/86750.txt? [y]es, [n]o, [A]ll, [N]one, [r]ename: yes\n",
            "  inflating: data/obj/86750.txt      \n",
            "replace data/obj/939583-face-masks.jpg? [y]es, [n]o, [A]ll, [N]one, [r]ename: yes\n",
            "  inflating: data/obj/939583-face-masks.jpg  \n",
            "replace data/obj/939583-face-masks.txt? [y]es, [n]o, [A]ll, [N]one, [r]ename: yes\n",
            "  inflating: data/obj/939583-face-masks.txt  \n",
            "replace data/obj/3655000d-7adc-4e0f-a0ab-ac5d5ce337fa_tcm990-383423.jpg? [y]es, [n]o, [A]ll, [N]one, [r]ename: yes\n",
            "  inflating: data/obj/3655000d-7adc-4e0f-a0ab-ac5d5ce337fa_tcm990-383423.jpg  \n",
            "replace data/obj/3655000d-7adc-4e0f-a0ab-ac5d5ce337fa_tcm990-383423.txt? [y]es, [n]o, [A]ll, [N]one, [r]ename: yes\n",
            "  inflating: data/obj/3655000d-7adc-4e0f-a0ab-ac5d5ce337fa_tcm990-383423.txt  \n",
            "replace data/obj/6092173_041020-cc-ap-mask-man-img.jpg? [y]es, [n]o, [A]ll, [N]one, [r]ename: yes\n",
            "  inflating: data/obj/6092173_041020-cc-ap-mask-man-img.jpg  \n",
            "replace data/obj/6092173_041020-cc-ap-mask-man-img.txt? [y]es, [n]o, [A]ll, [N]one, [r]ename: yes\n",
            "  inflating: data/obj/6092173_041020-cc-ap-mask-man-img.txt  \n",
            "replace data/obj/12415442-3x2-xlarge.jpg? [y]es, [n]o, [A]ll, [N]one, [r]ename: yes\n",
            "  inflating: data/obj/12415442-3x2-xlarge.jpg  \n",
            "replace data/obj/12415442-3x2-xlarge.txt? [y]es, [n]o, [A]ll, [N]one, [r]ename: yes\n",
            "  inflating: data/obj/12415442-3x2-xlarge.txt  \n",
            "replace data/obj/74965821.jpg? [y]es, [n]o, [A]ll, [N]one, [r]ename: yes\n",
            "  inflating: data/obj/74965821.jpg   \n",
            "replace data/obj/74965821.txt? [y]es, [n]o, [A]ll, [N]one, [r]ename: yes\n",
            "  inflating: data/obj/74965821.txt   \n",
            "replace data/obj/ADGmqu_zTCvuGBfBhvpp7XHrQPiygcKqE9Csuz0-7iw7Igs64-c-mo.jpg? [y]es, [n]o, [A]ll, [N]one, [r]ename: yes\n",
            "  inflating: data/obj/ADGmqu_zTCvuGBfBhvpp7XHrQPiygcKqE9Csuz0-7iw7Igs64-c-mo.jpg  \n",
            "replace data/obj/ADGmqu_zTCvuGBfBhvpp7XHrQPiygcKqE9Csuz0-7iw7Igs64-c-mo.txt? [y]es, [n]o, [A]ll, [N]one, [r]ename: yes\n",
            "  inflating: data/obj/ADGmqu_zTCvuGBfBhvpp7XHrQPiygcKqE9Csuz0-7iw7Igs64-c-mo.txt  \n",
            "replace data/obj/AP_20030201663763-1000x667.jpg? [y]es, [n]o, [A]ll, [N]one, [r]ename: yes\n",
            "  inflating: data/obj/AP_20030201663763-1000x667.jpg  \n",
            "replace data/obj/AP_20030201663763-1000x667.txt? [y]es, [n]o, [A]ll, [N]one, [r]ename: yes\n",
            "  inflating: data/obj/AP_20030201663763-1000x667.txt  \n",
            "replace data/obj/ap_france_face_masks_16May20.jpg? [y]es, [n]o, [A]ll, [N]one, [r]ename: yes\n",
            "  inflating: data/obj/ap_france_face_masks_16May20.jpg  \n",
            "replace data/obj/ap_france_face_masks_16May20.txt? [y]es, [n]o, [A]ll, [N]one, [r]ename: yes\n",
            "  inflating: data/obj/ap_france_face_masks_16May20.txt  \n",
            "replace data/obj/b8f2eb6e-e7b9-4fc9-b849-2de3ac9c66a4.jpeg? [y]es, [n]o, [A]ll, [N]one, [r]ename: yes\n",
            "  inflating: data/obj/b8f2eb6e-e7b9-4fc9-b849-2de3ac9c66a4.jpeg  \n",
            "replace data/obj/b8f2eb6e-e7b9-4fc9-b849-2de3ac9c66a4.txt? [y]es, [n]o, [A]ll, [N]one, [r]ename: yes\n",
            "  inflating: data/obj/b8f2eb6e-e7b9-4fc9-b849-2de3ac9c66a4.txt  \n",
            "replace data/obj/Boy-with-face-mask-400.png? [y]es, [n]o, [A]ll, [N]one, [r]ename: yes\n",
            "  inflating: data/obj/Boy-with-face-mask-400.png  \n",
            "replace data/obj/Boy-with-face-mask-400.txt? [y]es, [n]o, [A]ll, [N]one, [r]ename: yes\n",
            "  inflating: data/obj/Boy-with-face-mask-400.txt  \n",
            "replace data/obj/BrightonPark_FILE_1_0.jpg? [y]es, [n]o, [A]ll, [N]one, [r]ename: yes\n",
            "  inflating: data/obj/BrightonPark_FILE_1_0.jpg  \n",
            "replace data/obj/BrightonPark_FILE_1_0.txt? [y]es, [n]o, [A]ll, [N]one, [r]ename: yes\n",
            "  inflating: data/obj/BrightonPark_FILE_1_0.txt  \n",
            "replace data/obj/checkmark2.png? [y]es, [n]o, [A]ll, [N]one, [r]ename: yes\n",
            "  inflating: data/obj/checkmark2.png  \n",
            "replace data/obj/classes.txt? [y]es, [n]o, [A]ll, [N]one, [r]ename: yes\n",
            "  inflating: data/obj/classes.txt    \n",
            "replace data/obj/coronavirus-today-main-200130_aef44d5313fc91e71e490fa62e718264.jpg? [y]es, [n]o, [A]ll, [N]one, [r]ename: yes\n",
            "  inflating: data/obj/coronavirus-today-main-200130_aef44d5313fc91e71e490fa62e718264.jpg  \n",
            "replace data/obj/coronavirus-today-main-200130_aef44d5313fc91e71e490fa62e718264.txt? [y]es, [n]o, [A]ll, [N]one, [r]ename: yes\n",
            "  inflating: data/obj/coronavirus-today-main-200130_aef44d5313fc91e71e490fa62e718264.txt  \n",
            "replace data/obj/e26c02-20200418-north-mpls-free-masks-01.jpg? [y]es, [n]o, [A]ll, [N]one, [r]ename: yes\n",
            "  inflating: data/obj/e26c02-20200418-north-mpls-free-masks-01.jpg  \n",
            "replace data/obj/e26c02-20200418-north-mpls-free-masks-01.txt? [y]es, [n]o, [A]ll, [N]one, [r]ename: yes\n",
            "  inflating: data/obj/e26c02-20200418-north-mpls-free-masks-01.txt  \n",
            "replace data/obj/Face_Masks_Street_1200x628-facebook-1200x628.jpg? [y]es, [n]o, [A]ll, [N]one, [r]ename: yes\n",
            "  inflating: data/obj/Face_Masks_Street_1200x628-facebook-1200x628.jpg  \n",
            "replace data/obj/Face_Masks_Street_1200x628-facebook-1200x628.txt? [y]es, [n]o, [A]ll, [N]one, [r]ename: yes\n",
            "  inflating: data/obj/Face_Masks_Street_1200x628-facebook-1200x628.txt  \n",
            "replace data/obj/file-20200408-44160-1qpyrm3.jpg? [y]es, [n]o, [A]ll, [N]one, [r]ename: yes\n",
            "  inflating: data/obj/file-20200408-44160-1qpyrm3.jpg  \n",
            "replace data/obj/file-20200408-44160-1qpyrm3.txt? [y]es, [n]o, [A]ll, [N]one, [r]ename: yes\n",
            "  inflating: data/obj/file-20200408-44160-1qpyrm3.txt  \n",
            "replace data/obj/FT_20.06.24_Masks_Featured-image.jpg? [y]es, [n]o, [A]ll, [N]one, [r]ename: yes\n",
            "  inflating: data/obj/FT_20.06.24_Masks_Featured-image.jpg  \n",
            "replace data/obj/FT_20.06.24_Masks_Featured-image.txt? [y]es, [n]o, [A]ll, [N]one, [r]ename: yes\n",
            "  inflating: data/obj/FT_20.06.24_Masks_Featured-image.txt  \n",
            "replace data/obj/GettyImages-1204916988.jpg? [y]es, [n]o, [A]ll, [N]one, [r]ename: yes\n",
            "  inflating: data/obj/GettyImages-1204916988.jpg  \n",
            "replace data/obj/GettyImages-1204916988.txt? [y]es, [n]o, [A]ll, [N]one, [r]ename: yes\n",
            "  inflating: data/obj/GettyImages-1204916988.txt  \n",
            "replace data/obj/gettyimages-1215069129_jacoblund.png? [y]es, [n]o, [A]ll, [N]one, [r]ename: yes\n",
            "  inflating: data/obj/gettyimages-1215069129_jacoblund.png  \n",
            "replace data/obj/gettyimages-1215069129_jacoblund.txt? [y]es, [n]o, [A]ll, [N]one, [r]ename: yes\n",
            "  inflating: data/obj/gettyimages-1215069129_jacoblund.txt  \n",
            "replace data/obj/gettyimages-1216092099_peopleimages.png? [y]es, [n]o, [A]ll, [N]one, [r]ename: yes\n",
            "  inflating: data/obj/gettyimages-1216092099_peopleimages.png  \n",
            "replace data/obj/gettyimages-1216092099_peopleimages.txt? [y]es, [n]o, [A]ll, [N]one, [r]ename: yes\n",
            "  inflating: data/obj/gettyimages-1216092099_peopleimages.txt  \n",
            "replace data/obj/GettyImages-1218031592.jpg? [y]es, [n]o, [A]ll, [N]one, [r]ename: yes\n",
            "  inflating: data/obj/GettyImages-1218031592.jpg  \n",
            "replace data/obj/GettyImages-1218031592.txt? [y]es, [n]o, [A]ll, [N]one, [r]ename: yes\n",
            "  inflating: data/obj/GettyImages-1218031592.txt  \n",
            "replace data/obj/GettyImages-1239699427.jpg? [y]es, [n]o, [A]ll, [N]one, [r]ename: yes\n",
            "  inflating: data/obj/GettyImages-1239699427.jpg  \n",
            "replace data/obj/GettyImages-1239699427.txt? [y]es, [n]o, [A]ll, [N]one, [r]ename: yes\n",
            "  inflating: data/obj/GettyImages-1239699427.txt  \n",
            "replace data/obj/GettyImages-120454991820SMALL.jpg? [y]es, [n]o, [A]ll, [N]one, [r]ename: yes\n",
            "  inflating: data/obj/GettyImages-120454991820SMALL.jpg  \n",
            "replace data/obj/GettyImages-120454991820SMALL.txt? [y]es, [n]o, [A]ll, [N]one, [r]ename: yes\n",
            "  inflating: data/obj/GettyImages-120454991820SMALL.txt  \n",
            "replace data/obj/gettyimages-face-mask-public-covid-19.jpg? [y]es, [n]o, [A]ll, [N]one, [r]ename: yes\n",
            "  inflating: data/obj/gettyimages-face-mask-public-covid-19.jpg  \n",
            "replace data/obj/gettyimages-face-mask-public-covid-19.txt? [y]es, [n]o, [A]ll, [N]one, [r]ename: yes\n",
            "  inflating: data/obj/gettyimages-face-mask-public-covid-19.txt  \n",
            "replace data/obj/GettyImages-pandemic-etiquette-social-distancing_759-1.jpg? [y]es, [n]o, [A]ll, [N]one, [r]ename: yes\n",
            "  inflating: data/obj/GettyImages-pandemic-etiquette-social-distancing_759-1.jpg  \n",
            "replace data/obj/GettyImages-pandemic-etiquette-social-distancing_759-1.txt? [y]es, [n]o, [A]ll, [N]one, [r]ename: yes\n",
            "  inflating: data/obj/GettyImages-pandemic-etiquette-social-distancing_759-1.txt  \n",
            "replace data/obj/health-coronavirus-southkorea.jpg? [y]es, [n]o, [A]ll, [N]one, [r]ename: yes\n",
            "  inflating: data/obj/health-coronavirus-southkorea.jpg  \n",
            "replace data/obj/health-coronavirus-southkorea.txt? [y]es, [n]o, [A]ll, [N]one, [r]ename: yes\n",
            "  inflating: data/obj/health-coronavirus-southkorea.txt  \n",
            "replace data/obj/https3A2F2Fcdn.cnn.com2Fcnnnext2Fdam2Fassets2F200423120222-01-face-masks-wellness-trnd-restricted.jpg? [y]es, [n]o, [A]ll, [N]one, [r]ename: yes\n",
            "  inflating: data/obj/https3A2F2Fcdn.cnn.com2Fcnnnext2Fdam2Fassets2F200423120222-01-face-masks-wellness-trnd-restricted.jpg  \n",
            "replace data/obj/https3A2F2Fcdn.cnn.com2Fcnnnext2Fdam2Fassets2F200423120222-01-face-masks-wellness-trnd-restricted.txt? [y]es, [n]o, [A]ll, [N]one, [r]ename: yes\n",
            "  inflating: data/obj/https3A2F2Fcdn.cnn.com2Fcnnnext2Fdam2Fassets2F200423120222-01-face-masks-wellness-trnd-restricted.txt  \n",
            "replace data/obj/image2.jpeg? [y]es, [n]o, [A]ll, [N]one, [r]ename: yes\n",
            "  inflating: data/obj/image2.jpeg    \n",
            "replace data/obj/image2.jpg? [y]es, [n]o, [A]ll, [N]one, [r]ename: yes\n",
            "  inflating: data/obj/image2.jpg     \n",
            "replace data/obj/image2.txt? [y]es, [n]o, [A]ll, [N]one, [r]ename: yes\n",
            "  inflating: data/obj/image2.txt     \n",
            "replace data/obj/image3.jpeg? [y]es, [n]o, [A]ll, [N]one, [r]ename: yes\n",
            "  inflating: data/obj/image3.jpeg    \n",
            "replace data/obj/image3.txt? [y]es, [n]o, [A]ll, [N]one, [r]ename: yes\n",
            "  inflating: data/obj/image3.txt     \n",
            "replace data/obj/image4.jpeg? [y]es, [n]o, [A]ll, [N]one, [r]ename: yes\n",
            "  inflating: data/obj/image4.jpeg    \n",
            "replace data/obj/image4.txt? [y]es, [n]o, [A]ll, [N]one, [r]ename: yes\n",
            "  inflating: data/obj/image4.txt     \n",
            "replace data/obj/image5.jpeg? [y]es, [n]o, [A]ll, [N]one, [r]ename: yes\n",
            "  inflating: data/obj/image5.jpeg    \n",
            "replace data/obj/image5.txt? [y]es, [n]o, [A]ll, [N]one, [r]ename: yes\n",
            "  inflating: data/obj/image5.txt     \n",
            "replace data/obj/image6.jpeg? [y]es, [n]o, [A]ll, [N]one, [r]ename: yes\n",
            "  inflating: data/obj/image6.jpeg    \n",
            "replace data/obj/image6.txt? [y]es, [n]o, [A]ll, [N]one, [r]ename: yes\n",
            "  inflating: data/obj/image6.txt     \n",
            "replace data/obj/image7.jpeg? [y]es, [n]o, [A]ll, [N]one, [r]ename: yes\n",
            "  inflating: data/obj/image7.jpeg    \n",
            "replace data/obj/image7.txt? [y]es, [n]o, [A]ll, [N]one, [r]ename: yes\n",
            "  inflating: data/obj/image7.txt     \n",
            "replace data/obj/image9.jpeg? [y]es, [n]o, [A]ll, [N]one, [r]ename: yes\n",
            "  inflating: data/obj/image9.jpeg    \n",
            "replace data/obj/image9.txt? [y]es, [n]o, [A]ll, [N]one, [r]ename: yes\n",
            "  inflating: data/obj/image9.txt     \n",
            "replace data/obj/image10.jpeg? [y]es, [n]o, [A]ll, [N]one, [r]ename: yes\n",
            "  inflating: data/obj/image10.jpeg   \n",
            "replace data/obj/image10.txt? [y]es, [n]o, [A]ll, [N]one, [r]ename: yes\n",
            "  inflating: data/obj/image10.txt    \n",
            "replace data/obj/image11.jpeg? [y]es, [n]o, [A]ll, [N]one, [r]ename: yes\n",
            "  inflating: data/obj/image11.jpeg   \n",
            "replace data/obj/image11.txt? [y]es, [n]o, [A]ll, [N]one, [r]ename: yes\n",
            "  inflating: data/obj/image11.txt    \n",
            "replace data/obj/image12.jpeg? [y]es, [n]o, [A]ll, [N]one, [r]ename: yes\n",
            "  inflating: data/obj/image12.jpeg   \n",
            "replace data/obj/image12.txt? [y]es, [n]o, [A]ll, [N]one, [r]ename: yes\n",
            "  inflating: data/obj/image12.txt    \n",
            "replace data/obj/image13.jpeg? [y]es, [n]o, [A]ll, [N]one, [r]ename: yes\n",
            "  inflating: data/obj/image13.jpeg   \n",
            "replace data/obj/image13.txt? [y]es, [n]o, [A]ll, [N]one, [r]ename: yes\n",
            "  inflating: data/obj/image13.txt    \n",
            "replace data/obj/image14.jpeg? [y]es, [n]o, [A]ll, [N]one, [r]ename: yes\n",
            "  inflating: data/obj/image14.jpeg   \n",
            "replace data/obj/image14.txt? [y]es, [n]o, [A]ll, [N]one, [r]ename: yes\n",
            "  inflating: data/obj/image14.txt    \n",
            "replace data/obj/image15.jpeg? [y]es, [n]o, [A]ll, [N]one, [r]ename: yes\n",
            "  inflating: data/obj/image15.jpeg   \n",
            "replace data/obj/image15.txt? [y]es, [n]o, [A]ll, [N]one, [r]ename: yes\n",
            "  inflating: data/obj/image15.txt    \n",
            "replace data/obj/image16.jpeg? [y]es, [n]o, [A]ll, [N]one, [r]ename: yes\n",
            "  inflating: data/obj/image16.jpeg   \n",
            "replace data/obj/image16.txt? [y]es, [n]o, [A]ll, [N]one, [r]ename: yes\n",
            "  inflating: data/obj/image16.txt    \n",
            "replace data/obj/image17.jpeg? [y]es, [n]o, [A]ll, [N]one, [r]ename: yes\n",
            "  inflating: data/obj/image17.jpeg   \n",
            "replace data/obj/image17.txt? [y]es, [n]o, [A]ll, [N]one, [r]ename: yes\n",
            "  inflating: data/obj/image17.txt    \n",
            "replace data/obj/image18.jpeg? [y]es, [n]o, [A]ll, [N]one, [r]ename: yes\n",
            "  inflating: data/obj/image18.jpeg   \n",
            "replace data/obj/image18.txt? [y]es, [n]o, [A]ll, [N]one, [r]ename: "
          ],
          "name": "stdout"
        }
      ]
    },
    {
      "cell_type": "code",
      "metadata": {
        "id": "CTDxCRonwCOY"
      },
      "source": [
        "import glob\r\n",
        "images_list = glob.glob(\"data/obj/*.jpg\")\r\n",
        "with open(\"data/train.txt\", \"w\") as f:\r\n",
        "    f.write(\"\\n\".join(images_list))"
      ],
      "execution_count": null,
      "outputs": []
    },
    {
      "cell_type": "code",
      "metadata": {
        "id": "9jRQgPtlwCLR"
      },
      "source": [
        "!wget https://pjreddie.com/media/files/darknet53.conv.74"
      ],
      "execution_count": null,
      "outputs": []
    },
    {
      "cell_type": "code",
      "metadata": {
        "id": "bNwLmFI8wCG9"
      },
      "source": [
        "!./darknet detector train data/obj.data cfg/yolov3_training.cfg darknet53.conv.74 -dont_show\r\n",
        "# Uncomment below and comment above to re-start your training from last saved weights\r\n",
        "#!./darknet detector train data/obj.data cfg/yolov3_training.cfg /mydrive/yolov3/yolov3_training_last.weights -dont_show"
      ],
      "execution_count": null,
      "outputs": []
    },
    {
      "cell_type": "code",
      "metadata": {
        "id": "C5M3b13qwB98"
      },
      "source": [
        ""
      ],
      "execution_count": null,
      "outputs": []
    }
  ]
}